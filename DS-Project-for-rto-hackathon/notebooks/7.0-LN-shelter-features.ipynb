{
 "cells": [
  {
   "cell_type": "code",
   "execution_count": null,
   "id": "resistant-carter",
   "metadata": {},
   "outputs": [],
   "source": [
    "import pandas as pd\n",
    "import os\n",
    "from funUtils import direction_lookup\n",
    "import numpy as np"
   ]
  },
  {
   "cell_type": "code",
   "execution_count": null,
   "id": "sought-audio",
   "metadata": {},
   "outputs": [],
   "source": [
    "path = \"data\""
   ]
  },
  {
   "cell_type": "code",
   "execution_count": null,
   "id": "acoustic-academy",
   "metadata": {},
   "outputs": [],
   "source": [
    "##read shelter data and merge by the orginal data to get shelter information##\n",
    "dfShelter = pd.read_excel(os.path.join(path, \"animal_shelter_raw_data.xlsx\"), sheet_name=\"shelter_data\")\n",
    "\n",
    "animalDF = pd.read_excel(os.path.join(path, \"Animal_feature_v1.xlsx\"))\n",
    "\n",
    "animalDF = pd.merge(animalDF, dfShelter)"
   ]
  },
  {
   "cell_type": "code",
   "execution_count": null,
   "id": "further-entrepreneur",
   "metadata": {},
   "outputs": [],
   "source": [
    "##add direaction label##\n",
    "##call direction_lookup function to get direaction##\n",
    "\n",
    "direactionList = []\n",
    "for row in range(animalDF.shape[0]):\n",
    "    outcome_lat = animalDF.loc[row, \"outcome_lat\"]\n",
    "    outcome_lng = animalDF.loc[row, \"outcome_lng\"]\n",
    "    found_lat = animalDF.loc[row, \"found_lat\"]\n",
    "    found_lng = animalDF.loc[row, \"found_lng\"]\n",
    "    directResult = direction_lookup(found_lat, outcome_lat, found_lng, outcome_lng)\n",
    "    direactionList.append(directResult)\n",
    "\n",
    "animalDF[\"direction\"] = direactionList"
   ]
  },
  {
   "cell_type": "code",
   "execution_count": null,
   "id": "sustained-diary",
   "metadata": {},
   "outputs": [],
   "source": [
    "##specify the label/numeric/factor columns#\n",
    "label_col = [\"distance\",\"direction\"]\n",
    "numeric_col = ['nearby1', 'nearby2', 'nearby3', 'nearby4', 'nearby5',\n",
    "                'annual_intake_2019','annual_intake_2020', 'annual_intake_2021',\n",
    "               'jurisdiction_size_sq_km','jurisdiction_pop_size',\n",
    "                'jurisdiction_pop_density_person_per_sq_km']\n",
    "\n",
    "factor_col = ['Species', 'justidiction_state', 'jurisdiction_region']"
   ]
  },
  {
   "cell_type": "code",
   "execution_count": null,
   "id": "respective-disorder",
   "metadata": {},
   "outputs": [],
   "source": [
    "####################\n",
    "##covert feature to all numeric##\n",
    "\n",
    "##get numeric part of data ##\n",
    "dfNum = animalDF[numeric_col].fillna(value=animalDF[numeric_col].mean())\n",
    "\n",
    "##get factor part of data##\n",
    "dfFactor = animalDF[factor_col]\n",
    "##convert factor columns to dummy variable\n",
    "dfFactor = pd.get_dummies(dfFactor)\n",
    "\n",
    "dfY = animalDF[label_col]\n",
    "\n",
    "##combine all features together\n",
    "dfCom = pd.concat([dfNum, dfFactor, dfY], axis=1)\n",
    "\n",
    "dfCom.shape #(23080, 40)\n",
    "\n",
    "dfCom.to_excel(os.path.join(\"data\", \"Animal_feature_v2.xlsx\"), index=False)"
   ]
  }
 ],
 "metadata": {
  "kernelspec": {
   "display_name": "Python 3",
   "language": "python",
   "name": "python3"
  }
 },
 "nbformat": 4,
 "nbformat_minor": 5
}
