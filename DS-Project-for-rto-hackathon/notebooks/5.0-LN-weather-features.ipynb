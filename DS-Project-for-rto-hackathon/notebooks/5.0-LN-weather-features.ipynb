{
 "cells": [
  {
   "cell_type": "code",
   "execution_count": null,
   "id": "incident-chase",
   "metadata": {},
   "outputs": [],
   "source": [
    "import pandas as pd\n",
    "import os\n",
    "\n"
   ]
  },
  {
   "cell_type": "code",
   "execution_count": null,
   "id": "renewable-level",
   "metadata": {},
   "outputs": [],
   "source": [
    "path = \"data\"\n",
    "\n",
    "##read feature data###\n",
    "dfCom = pd.read_excel(os.path.join(path, \"Animal_feature_v2.xlsx\"))\n",
    "print(dfCom.shape) #(23080, 40)"
   ]
  },
  {
   "cell_type": "code",
   "execution_count": null,
   "id": "freelance-inclusion",
   "metadata": {},
   "outputs": [],
   "source": [
    "\n",
    "##read weather data\n",
    "dfWeather = pd.read_csv(os.path.join(path, \"clean_data_weather.csv\"))\n",
    "\n",
    "##combien them together\n",
    "dfCom = pd.concat([dfCom, dfWeather], axis=1)\n",
    "\n",
    "##remove id columns\n",
    "dfCom = dfCom.loc[:,~dfCom.columns.isin([\"shelter_id\", \"intake_date\"])]\n"
   ]
  },
  {
   "cell_type": "code",
   "execution_count": null,
   "id": "veterinary-emphasis",
   "metadata": {},
   "outputs": [],
   "source": [
    "dfCom.to_excel(os.path.join(\"data\", \"Animal_feature_v3.xlsx\"), index=False)"
   ]
  },
  {
   "cell_type": "code",
   "execution_count": null,
   "id": "wrapped-flash",
   "metadata": {},
   "outputs": [],
   "source": []
  }
 ],
 "metadata": {
  "kernelspec": {
   "display_name": "Python 3",
   "language": "python",
   "name": "python3"
  }
 },
 "nbformat": 4,
 "nbformat_minor": 5
}
