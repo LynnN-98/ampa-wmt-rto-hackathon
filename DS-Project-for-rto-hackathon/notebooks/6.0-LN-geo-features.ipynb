{
 "cells": [
  {
   "cell_type": "code",
   "execution_count": null,
   "id": "determined-chinese",
   "metadata": {},
   "outputs": [],
   "source": [
    "import pandas as pd\n",
    "import os"
   ]
  },
  {
   "cell_type": "code",
   "execution_count": null,
   "id": "sunrise-exhibit",
   "metadata": {},
   "outputs": [],
   "source": [
    "path = \"data\"\n",
    "\n",
    "\n",
    "##read original data\n",
    "dfCom = pd.read_excel(os.path.join(path, \"Animal_feature_v3.xlsx\"))\n",
    "print(dfCom.shape) #(23080, 40)"
   ]
  },
  {
   "cell_type": "code",
   "execution_count": null,
   "id": "soviet-scenario",
   "metadata": {},
   "outputs": [],
   "source": [
    "##read geo data##\n",
    "dfGeo = pd.read_excel(os.path.join(path, \"GIS data.xlsx\"))\n",
    "dfBasic = pd.read_excel(os.path.join(path, \"shelter_intake_date_id.xlsx\"))"
   ]
  },
  {
   "cell_type": "code",
   "execution_count": null,
   "id": "eastern-philippines",
   "metadata": {},
   "outputs": [],
   "source": [
    "\n",
    "##combine geo data to original data##\n",
    "dfGeoFeature = pd.merge(dfBasic, dfGeo,left_on=\"shelter_id\", right_on=\"city\", how=\"left\")\n",
    "\n",
    "dfGeoFeature[['NVDI', 'impervious']] = dfGeoFeature[['NVDI', 'impervious']].fillna(value=dfGeoFeature[['NVDI', 'impervious']].mean())\n",
    "\n",
    "dfCom[['NVDI', 'impervious']] = dfGeoFeature[['NVDI', 'impervious']]\n"
   ]
  },
  {
   "cell_type": "code",
   "execution_count": null,
   "id": "ceramic-empty",
   "metadata": {},
   "outputs": [],
   "source": [
    "dfCom.to_excel(os.path.join(\"data\", \"Animal_feature_v4.xlsx\"), index=False)\n"
   ]
  }
 ],
 "metadata": {
  "kernelspec": {
   "display_name": "Python 3",
   "language": "python",
   "name": "python3"
  }
 },
 "nbformat": 4,
 "nbformat_minor": 5
}
